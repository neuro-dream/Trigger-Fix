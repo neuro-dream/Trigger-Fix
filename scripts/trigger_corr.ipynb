{
 "cells": [
  {
   "attachments": {},
   "cell_type": "markdown",
   "metadata": {},
   "source": [
    "# trigger correction"
   ]
  },
  {
   "attachments": {},
   "cell_type": "markdown",
   "metadata": {},
   "source": [
    "Given fast/continuously paced stimulus presentation and/or shortcomings of specific experimental software, the parallel port might occasionally send incorrect EEG event markers. This seems to depend on specific hardware-software interactions.  \n",
    "Rather than catching and solving all such interactions, this posthoc fix aligns and matches behavioral log files (here in *.npz format) with the initial EEG event marker files in a semi-automatic way. It then produces an updated EEG event marker file.\n",
    "\n",
    "## how to use\n",
    "\n",
    "1. adjust the paths in the cell below as needed.\n",
    "2. if you want to run all the files in the inpath directory, no further adjustments are needed  \n",
    "alternatively, you can choose a subset of files based on:\n",
    "    - sbjcode (default: \"all\"),\n",
    "    - task (default: \"all\"), and \n",
    "    - group (default: \"\", i.e. no group).  \n",
    "\n",
    "All these input arguments can be a single string value, or a list of strings.  \n",
    "_note that groups parameter MUST be set explicitly if you have groups in the filename that determine file matching._  \n",
    "\n",
    "3. run the cell below.\n",
    "4. collect the files from the output folder and import to your EEG marker file with appropriate software. the naming of the files is the same as the filename stem of the EEG marker files.\n",
    "\n",
    "## notes on plots (TODO: adjust documentation)\n",
    "\n",
    "You can specify whether or not you want output diagnostic plots in this notebook. For that, set any of the parameters ``mismatch_plot`` in the call to ``BatchPosthocTriggerFix`` to **True** or **False** depending on your needs.  \n",
    "\n",
    "### if mismatch_plot set to True (default; highly recommended)\n",
    "With this diag plot, you may visually check the match of each file.  \n",
    "\n",
    "![title](plot_1_illu.png)\n",
    "\n",
    "- **middle black lines**: matches\n",
    "- **green lines**: markers only in log file (i.e., *.npz)\n",
    "- **red lines**: markers only in EEG marker file, but NOT ghost trigger\n",
    "- **grey lines**: markers only in vmrk: \"ghost\" trigger (i.e. a trigger number not defined in decoding table)  \n",
    "\n",
    "For example, it is a BAD indicator if N green lines >= N black lines (not counting green lines at beginning/end, esp. before 0).  \n",
    "In that case, you should run another batch with tweaked parameters.  \n",
    "Parameters to tweak are:\n",
    "- **high_accuracy**: if True, slower calculations but possibly more accurate\n",
    "- **only_middle**: default True; only consider the middle 50% of each for estimating matches. If False, consider all.\n",
    "- **samp_uncertainty**: how many samples npz and vmrk are allowed to deviate to still be considered a match (in EEG samples (but TODO: double check))\n",
    "- **nth_best**: the optimization process may in rare cases suggest a suboptimal solution (which should be visible in the mismatch_plot). if suspected that the first solution in this optimization process is in fact not the best, the user can change check the 2nd, 3rd, ... 513th, ... best\n",
    "- **allow_manual_mode**: self-explanatory"
   ]
  },
  {
   "attachments": {},
   "cell_type": "markdown",
   "metadata": {},
   "source": [
    "# code cells"
   ]
  },
  {
   "cell_type": "code",
   "execution_count": 1,
   "metadata": {},
   "outputs": [],
   "source": [
    "from trigfix.trigger_compare_functions import *\n",
    "\n",
    "# either put EEG and logfiles into emp_fpath below, or adjust the path.\n",
    "emp_fpath = root_path/\"data\"/\"inpath\"\n",
    "outpath   = root_path/\"data\"/\"outpath\""
   ]
  },
  {
   "cell_type": "code",
   "execution_count": 2,
   "metadata": {},
   "outputs": [],
   "source": [
    "%matplotlib qt"
   ]
  },
  {
   "cell_type": "code",
   "execution_count": 3,
   "metadata": {},
   "outputs": [
    {
     "name": "stdout",
     "output_type": "stream",
     "text": [
      "Warning: Cannot change to a different GUI toolkit: widget. Using qt instead.\n"
     ]
    }
   ],
   "source": [
    "%matplotlib widget"
   ]
  },
  {
   "cell_type": "code",
   "execution_count": 4,
   "metadata": {},
   "outputs": [
    {
     "name": "stderr",
     "output_type": "stream",
     "text": [
      "c:\\users\\nicade\\documents\\repos\\trigger-fix\\trigfix\\globals.py:90: FutureWarning: The error_bad_lines argument has been deprecated and will be removed in a future version.\n",
      "\n",
      "\n",
      "  self.read_file()\n"
     ]
    }
   ],
   "source": [
    "batch = BatchPosthocTriggerFix(\n",
    "    lab=\"EEG2\",\n",
    "    inpath=emp_fpath, \n",
    "    outpath=outpath,\n",
    "    samp_uncertainty=20,\n",
    "    mismatch_plot=True,\n",
    "    allow_manual_mode=False\n",
    "    )\n",
    "\n",
    "batch.apply_fix() #, sbjcodes=\"S14\""
   ]
  },
  {
   "cell_type": "code",
   "execution_count": 34,
   "metadata": {},
   "outputs": [],
   "source": []
  }
 ],
 "metadata": {
  "kernelspec": {
   "display_name": "emulation-task",
   "language": "python",
   "name": "python3"
  },
  "language_info": {
   "codemirror_mode": {
    "name": "ipython",
    "version": 3
   },
   "file_extension": ".py",
   "mimetype": "text/x-python",
   "name": "python",
   "nbconvert_exporter": "python",
   "pygments_lexer": "ipython3",
   "version": "3.7.16"
  },
  "orig_nbformat": 4,
  "vscode": {
   "interpreter": {
    "hash": "17a4f3306c24dd2707370ebba27578bbb39a63742413a6524a42fdc088bf30a1"
   }
  }
 },
 "nbformat": 4,
 "nbformat_minor": 2
}
