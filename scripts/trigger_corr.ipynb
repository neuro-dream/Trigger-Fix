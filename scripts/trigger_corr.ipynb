{
 "cells": [
  {
   "attachments": {},
   "cell_type": "markdown",
   "metadata": {},
   "source": [
    "# trigger correction"
   ]
  },
  {
   "attachments": {},
   "cell_type": "markdown",
   "metadata": {},
   "source": [
    "Given the fast/continuous pace of stimulus presentation, EEG event markers might sometimes be written indirectly into the EEG marker file, depending on specific hardware interactions.  \n",
    "Rather than catching all cases of such interactions, we considered it more goal-directed to provide the following post-hoc fix.  \n",
    "The fix uses the information from the automatically written log (i.e. *.npz) files and combines it with the absolute timing from the EEG marker file.\n",
    "\n",
    "## how to use\n",
    "\n",
    "1. adjust the paths in the cell below as needed.\n",
    "2. if you want to run all the files in the inpath directory, no further adjustments are needed  \n",
    "alternatively, you can choose a subset of files based on sbjcode (default: \"all\"), task (default: \"all\"), and group (default: \"\", i.e. no group). All these input arguments can be a single string value, or a list of strings. _note that groups parameter MUST be set explicitly if you have groups in the filename that determine file matching._\n",
    "3. run the cell below.\n",
    "4. collect the files from the output folder and import to your EEG marker file with appropriate software. the naming of the files is the same as the filename stem of the EEG marker files.\n",
    "\n",
    "## notes on plots (TODO: adjust documentation)\n",
    "\n",
    "You can specify whether or not you want output diagnostic plots in this notebook. For that, set any of the parameters ``mismatch_plot`` in the call to ``BatchPosthocTriggerFix`` to **True** or **False** depending on your needs.  \n",
    "\n",
    "### if mismatch_plot set to True (default; highly recommended)\n",
    "With this diag plot, you may visually check the match of each file.  \n",
    "\n",
    "![title](plot_1_illu.png)\n",
    "\n",
    "- **middle black lines**: matches\n",
    "- **green lines**: markers only in log file (i.e., *.npz)\n",
    "- **red lines**: markers only in EEG marker file, but NOT ghost trigger\n",
    "- **grey lines**: markers only in vmrk: \"ghost\" trigger (i.e. a trigger number not defined in decoding table)  \n",
    "\n",
    "For example, it is a BAD indicator if N green lines >= N black lines (not counting green lines at beginning/end, esp. before 0).  \n",
    "In that case, you should run another batch with tweaked parameters (copy the code cell, or replace its content).  \n",
    "Parameters to tweak are:\n",
    "- **high_accuracy**: if True, slower calculations but possible more correct\n",
    "- **only_middle**: default True; only consider the middle 50% of each for matches. If False, consider all.\n",
    "- **samp_uncertainty**: how many samples npz and vmrk can deviate (in EEG samples (TODO: double check))\n",
    "- **nth_best**: lags are sorted according to a (rarely maybe suboptimal) optimization criterion. if suspected that the first in the list is not the best, the user can change it to the 2nd, 3rd, 513th, ... best\n",
    "- **allow_manual_mode**: self-explanatory\n",
    "\n",
    "parameters within the functions need to be adjusted. Contact the developers."
   ]
  },
  {
   "attachments": {},
   "cell_type": "markdown",
   "metadata": {},
   "source": [
    "# code cells"
   ]
  },
  {
   "cell_type": "code",
   "execution_count": 1,
   "metadata": {},
   "outputs": [],
   "source": [
    "from trigfix.trigger_compare_functions import *\n",
    "\n",
    "# either put EEG and logfiles into emp_fpath below, or adjust the path.\n",
    "emp_fpath = root_path/\"data\"/\"inpath\"\n",
    "outpath   = root_path/\"data\"/\"outpath\""
   ]
  },
  {
   "cell_type": "code",
   "execution_count": 2,
   "metadata": {},
   "outputs": [],
   "source": [
    "%matplotlib qt"
   ]
  },
  {
   "cell_type": "code",
   "execution_count": 3,
   "metadata": {},
   "outputs": [
    {
     "name": "stdout",
     "output_type": "stream",
     "text": [
      "Warning: Cannot change to a different GUI toolkit: widget. Using qt instead.\n"
     ]
    }
   ],
   "source": [
    "%matplotlib widget"
   ]
  },
  {
   "cell_type": "code",
   "execution_count": 4,
   "metadata": {},
   "outputs": [
    {
     "name": "stderr",
     "output_type": "stream",
     "text": [
      "c:\\users\\a\\documents\\toolbox\\trigger-fix\\trigfix\\globals.py:90: FutureWarning: The error_bad_lines argument has been deprecated and will be removed in a future version.\n",
      "\n",
      "\n",
      "  self.read_file()\n"
     ]
    },
    {
     "name": "stdout",
     "output_type": "stream",
     "text": [
      "EmuWarning: could not fix mismatch of task_A_22-07-14_17-01_S31.npz/S31_events_task_A_fixed.txt with brute force in 0 attempts; going to manual mode\n"
     ]
    },
    {
     "data": {
      "application/vnd.jupyter.widget-view+json": {
       "model_id": "3fb202dea97a49f0b093ce3cc387e98e",
       "version_major": 2,
       "version_minor": 0
      },
      "text/plain": [
       "interactive(children=(FloatSlider(value=1.0, description='factor', layout=Layout(width='800px'), max=2.0, step…"
      ]
     },
     "metadata": {},
     "output_type": "display_data"
    }
   ],
   "source": [
    "batch = BatchPosthocTriggerFix(\n",
    "    lab=\"EEG1\", \n",
    "    inpath=emp_fpath, \n",
    "    outpath=outpath,\n",
    "    samp_uncertainty=20,\n",
    "    mismatch_plot=False,\n",
    "    allow_manual_mode=True\n",
    "    )\n",
    "\n",
    "batch.apply_fix(groups=\"all\", tasks=\"A\", sbjcodes=\"S31\") #, sbjcodes=\"S14\""
   ]
  },
  {
   "cell_type": "code",
   "execution_count": 34,
   "metadata": {},
   "outputs": [],
   "source": []
  }
 ],
 "metadata": {
  "kernelspec": {
   "display_name": "emulation-task",
   "language": "python",
   "name": "python3"
  },
  "language_info": {
   "codemirror_mode": {
    "name": "ipython",
    "version": 3
   },
   "file_extension": ".py",
   "mimetype": "text/x-python",
   "name": "python",
   "nbconvert_exporter": "python",
   "pygments_lexer": "ipython3",
   "version": "3.7.16"
  },
  "orig_nbformat": 4,
  "vscode": {
   "interpreter": {
    "hash": "17a4f3306c24dd2707370ebba27578bbb39a63742413a6524a42fdc088bf30a1"
   }
  }
 },
 "nbformat": 4,
 "nbformat_minor": 2
}
