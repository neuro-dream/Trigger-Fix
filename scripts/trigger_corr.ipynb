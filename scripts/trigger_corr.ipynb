{
 "cells": [
  {
   "attachments": {},
   "cell_type": "markdown",
   "metadata": {},
   "source": [
    "# trigger correction"
   ]
  },
  {
   "attachments": {},
   "cell_type": "markdown",
   "metadata": {},
   "source": [
    "Given the fast/continuous pace of stimulus presentation, EEG event markers might sometimes be written indirectly into the EEG marker file, depending on specific hardware interactions.  \n",
    "Rather than catching all cases of such interactions, we considered it more goal-directed to provide the following post-hoc fix.  \n",
    "The fix uses the information from the automatically written log (i.e. *.npz) files and combines it with the absolute timing from the EEG marker file.\n",
    "\n",
    "## how to use\n",
    "\n",
    "1. adjust the paths in the cell below as needed.\n",
    "2. if you want to run all the files in the inpath directory, no further adjustments are needed  \n",
    "alternatively, you can choose a subset of files based on sbjcode (default: \"all\"), task (default: \"all\"), and group (default: \"\", i.e. no group). All these input arguments can be a single string value, or a list of strings. _note that groups parameter MUST be set explicitly if you have groups in the filename that determine file matching._\n",
    "3. run the cell below.\n",
    "4. collect the files from the output folder and import to your EEG marker file with appropriate software. the naming of the files is the same as the filename stem of the EEG marker files.\n",
    "\n",
    "## notes on plots\n",
    "\n",
    "You can specify whether or not you want output diagnostic plots in this notebook. For that, set any of the parameters ``diag_plot_1`` or ``diag_plot_2`` in the call to ``BatchPosthocTriggerFix`` to **True** or **False** depending on your needs.  \n",
    "\n",
    "### if diag_plot_1 set to True (default; highly recommended)\n",
    "With this diag plot, you may visually check the match of each file.  \n",
    "\n",
    "![title](plot_1_illu.png)\n",
    "\n",
    "- **middle black lines**: matches\n",
    "- **green lines**: markers only in log file (i.e., *.npz)\n",
    "- **red lines**: markers only in EEG marker file, but NOT ghost trigger\n",
    "- **grey lines**: markers only in vmrk: \"ghost\" trigger (i.e. a trigger number not defined in decoding table)  \n",
    "\n",
    "For example, it is a BAD indicator if N green lines >= N black lines (not counting green lines at beginning/end, esp. before 0).  \n",
    "In that case, you should run another batch with tweaked parameters (copy the code cell, or replace its content).  \n",
    "Parameters to tweak are:\n",
    "- **high_accuracy**: if True, slower calculations but possible more correct\n",
    "- **only_middle**: default True; only consider the middle 50% of each for matches. If False, consider all.\n",
    "- **samp_uncertainty**: how many samples npz and vmrk can deviate (in EEG samples (TODO: double check))\n",
    "- **nth_best**: lags are sorted according to a (rarely maybe suboptimal) optimization criterion. if suspected that the first in the list is not the best, the user can change it to the 2nd, 3rd, 513th, ... best\n",
    "- **allow_manual_mode**: self-explanatory\n",
    "\n",
    "parameters within the functions need to be adjusted. Contact the developers.\n",
    "\n",
    "### if diag_plot_2 set to True (not default; often not needed)\n",
    "A possible, but less likely case happens when the time jitter between npz and vmrk is higher than the initial value of 20 EEG samples. This can be diagnosed via ``diag_plot_2 = True`` in the call to ``BatchPosthocTriggerFix``.\n",
    "\n",
    "![title](plot_2_illu.png)\n",
    "\n",
    "As you can see in this example plot, no issue exists: the range of sample deviances npz and vmrk of an assumed match is lower than the set range of 20 - and more importantly, there is no outlier.\n",
    "\n",
    "If that's not the case, you have to tweak the value ``samp_uncertainty`` in the call to ``BatchPosthocTriggerFix`` accordingly."
   ]
  },
  {
   "attachments": {},
   "cell_type": "markdown",
   "metadata": {},
   "source": [
    "# code cells"
   ]
  },
  {
   "cell_type": "code",
   "execution_count": 1,
   "metadata": {},
   "outputs": [],
   "source": [
    "from trigfix.trigger_compare_functions import *\n",
    "\n",
    "# either put EEG and logfiles into emp_fpath below, or adjust the path.\n",
    "emp_fpath = root_path/\"data\"/\"inpath\"\n",
    "outpath   = root_path/\"data\"/\"outpath\""
   ]
  },
  {
   "cell_type": "code",
   "execution_count": 2,
   "metadata": {},
   "outputs": [
    {
     "name": "stdout",
     "output_type": "stream",
     "text": [
      "Warning: Cannot change to a different GUI toolkit: widget. Using qt instead.\n"
     ]
    }
   ],
   "source": [
    "%matplotlib qt\n",
    "%matplotlib widget"
   ]
  },
  {
   "cell_type": "code",
   "execution_count": 3,
   "metadata": {},
   "outputs": [
    {
     "name": "stdout",
     "output_type": "stream",
     "text": [
      "task_A_22-05-17_20-07_S02.npz\n",
      "s02\n",
      "A\n"
     ]
    },
    {
     "ename": "IndexError",
     "evalue": "list index out of range",
     "output_type": "error",
     "traceback": [
      "\u001b[1;31m---------------------------------------------------------------------------\u001b[0m",
      "\u001b[1;31mIndexError\u001b[0m                                Traceback (most recent call last)",
      "\u001b[1;32m~\\AppData\\Local\\Temp\\ipykernel_12992\\372722096.py\u001b[0m in \u001b[0;36m<module>\u001b[1;34m\u001b[0m\n\u001b[0;32m      5\u001b[0m     \u001b[0msamp_uncertainty\u001b[0m\u001b[1;33m=\u001b[0m\u001b[1;36m20\u001b[0m\u001b[1;33m,\u001b[0m\u001b[1;33m\u001b[0m\u001b[1;33m\u001b[0m\u001b[0m\n\u001b[0;32m      6\u001b[0m     \u001b[0mdiag_plot_1\u001b[0m\u001b[1;33m=\u001b[0m\u001b[1;32mTrue\u001b[0m\u001b[1;33m,\u001b[0m\u001b[1;33m\u001b[0m\u001b[1;33m\u001b[0m\u001b[0m\n\u001b[1;32m----> 7\u001b[1;33m     \u001b[0mallow_manual_mode\u001b[0m\u001b[1;33m=\u001b[0m\u001b[1;32mTrue\u001b[0m\u001b[1;33m\u001b[0m\u001b[1;33m\u001b[0m\u001b[0m\n\u001b[0m\u001b[0;32m      8\u001b[0m     )\n\u001b[0;32m      9\u001b[0m \u001b[1;33m\u001b[0m\u001b[0m\n",
      "\u001b[1;32mc:\\users\\a\\documents\\toolbox\\trigger-fix\\trigfix\\trigger_compare_functions.py\u001b[0m in \u001b[0;36m__init__\u001b[1;34m(self, lab, inpath, outpath, samp_uncertainty, high_accuracy, only_middle, nth_best, allow_manual_mode, add_left_to_vmrk, diag_plot_1, diag_plot_2)\u001b[0m\n\u001b[0;32m     30\u001b[0m         \u001b[0mself\u001b[0m\u001b[1;33m.\u001b[0m\u001b[0msfreq\u001b[0m \u001b[1;33m=\u001b[0m \u001b[0mget_param_from_excel\u001b[0m\u001b[1;33m(\u001b[0m\u001b[1;34m\"lab\"\u001b[0m\u001b[1;33m,\u001b[0m \u001b[0mlab\u001b[0m\u001b[1;33m,\u001b[0m \u001b[1;34m\"sfreq\"\u001b[0m\u001b[1;33m)\u001b[0m\u001b[1;33m\u001b[0m\u001b[1;33m\u001b[0m\u001b[0m\n\u001b[0;32m     31\u001b[0m         \u001b[1;32mif\u001b[0m \u001b[0mlab\u001b[0m \u001b[1;33m==\u001b[0m \u001b[1;34m\"Hagen\"\u001b[0m\u001b[1;33m:\u001b[0m  \u001b[0mself\u001b[0m\u001b[1;33m.\u001b[0m\u001b[0mget_all_matching_in_dir_Saskia\u001b[0m\u001b[1;33m(\u001b[0m\u001b[1;33m)\u001b[0m \u001b[1;31m# TODO replace with general function\u001b[0m\u001b[1;33m\u001b[0m\u001b[1;33m\u001b[0m\u001b[0m\n\u001b[1;32m---> 32\u001b[1;33m         \u001b[1;32melse\u001b[0m\u001b[1;33m:\u001b[0m               \u001b[0mself\u001b[0m\u001b[1;33m.\u001b[0m\u001b[0mget_all_matching_in_dir\u001b[0m\u001b[1;33m(\u001b[0m\u001b[1;33m)\u001b[0m\u001b[1;33m\u001b[0m\u001b[1;33m\u001b[0m\u001b[0m\n\u001b[0m\u001b[0;32m     33\u001b[0m \u001b[1;33m\u001b[0m\u001b[0m\n\u001b[0;32m     34\u001b[0m     \u001b[1;32mdef\u001b[0m \u001b[0mvalid_vmrk_naming_scheme\u001b[0m\u001b[1;33m(\u001b[0m\u001b[0mself\u001b[0m\u001b[1;33m,\u001b[0m \u001b[0mf\u001b[0m\u001b[1;33m)\u001b[0m\u001b[1;33m:\u001b[0m\u001b[1;33m\u001b[0m\u001b[1;33m\u001b[0m\u001b[0m\n",
      "\u001b[1;32mc:\\users\\a\\documents\\toolbox\\trigger-fix\\trigfix\\trigger_compare_functions.py\u001b[0m in \u001b[0;36mget_all_matching_in_dir\u001b[1;34m(self)\u001b[0m\n\u001b[0;32m     63\u001b[0m             \u001b[0mprint\u001b[0m\u001b[1;33m(\u001b[0m\u001b[0me\u001b[0m\u001b[1;33m.\u001b[0m\u001b[0msplit\u001b[0m\u001b[1;33m(\u001b[0m\u001b[1;34m\"_\"\u001b[0m\u001b[1;33m)\u001b[0m\u001b[1;33m[\u001b[0m\u001b[1;33m-\u001b[0m\u001b[1;36m1\u001b[0m\u001b[1;33m]\u001b[0m\u001b[1;33m.\u001b[0m\u001b[0mreplace\u001b[0m\u001b[1;33m(\u001b[0m\u001b[1;34m\".npz\"\u001b[0m\u001b[1;33m,\u001b[0m \u001b[1;34m\"\"\u001b[0m\u001b[1;33m)\u001b[0m\u001b[1;33m.\u001b[0m\u001b[0mlower\u001b[0m\u001b[1;33m(\u001b[0m\u001b[1;33m)\u001b[0m\u001b[1;33m)\u001b[0m\u001b[1;33m\u001b[0m\u001b[1;33m\u001b[0m\u001b[0m\n\u001b[0;32m     64\u001b[0m             \u001b[0mprint\u001b[0m\u001b[1;33m(\u001b[0m\u001b[0me\u001b[0m\u001b[1;33m.\u001b[0m\u001b[0msplit\u001b[0m\u001b[1;33m(\u001b[0m\u001b[1;34m\"_\"\u001b[0m\u001b[1;33m)\u001b[0m\u001b[1;33m[\u001b[0m\u001b[1;36m1\u001b[0m\u001b[1;33m]\u001b[0m\u001b[1;33m)\u001b[0m\u001b[1;33m\u001b[0m\u001b[1;33m\u001b[0m\u001b[0m\n\u001b[1;32m---> 65\u001b[1;33m             \u001b[0mprint\u001b[0m\u001b[1;33m(\u001b[0m\u001b[0me\u001b[0m\u001b[1;33m.\u001b[0m\u001b[0msplit\u001b[0m\u001b[1;33m(\u001b[0m\u001b[1;34m\"_\"\u001b[0m\u001b[1;33m)\u001b[0m\u001b[1;33m[\u001b[0m\u001b[1;36m5\u001b[0m\u001b[1;33m]\u001b[0m\u001b[1;33m)\u001b[0m\u001b[1;33m\u001b[0m\u001b[1;33m\u001b[0m\u001b[0m\n\u001b[0m\u001b[0;32m     66\u001b[0m \u001b[1;33m\u001b[0m\u001b[0m\n\u001b[0;32m     67\u001b[0m         df_all_npzs = pd.DataFrame(zip(\n",
      "\u001b[1;31mIndexError\u001b[0m: list index out of range"
     ]
    }
   ],
   "source": [
    "batch = BatchPosthocTriggerFix(\n",
    "    lab=\"EEG1\", \n",
    "    inpath=emp_fpath, \n",
    "    outpath=outpath,\n",
    "    samp_uncertainty=20,\n",
    "    diag_plot_1=True,\n",
    "    allow_manual_mode=True\n",
    "    )\n",
    "\n",
    "batch.apply_fix(groups=\"all\", tasks=\"A\", sbjcodes=\"S31\") #, sbjcodes=\"S14\""
   ]
  },
  {
   "cell_type": "code",
   "execution_count": 34,
   "metadata": {},
   "outputs": [],
   "source": []
  },
  {
   "cell_type": "code",
   "execution_count": 49,
   "metadata": {},
   "outputs": [
    {
     "data": {
      "application/vnd.jupyter.widget-view+json": {
       "model_id": "b1a69ae4a53a47028a429657e403253d",
       "version_major": 2,
       "version_minor": 0
      },
      "text/plain": [
       "interactive(children=(FloatSlider(value=1.0, description='factor', layout=Layout(width='800px'), max=2.0, step…"
      ]
     },
     "metadata": {},
     "output_type": "display_data"
    },
    {
     "data": {
      "text/plain": [
       "<function __main__.update(factor=1.0, offset=0.0)>"
      ]
     },
     "execution_count": 49,
     "metadata": {},
     "output_type": "execute_result"
    },
    {
     "data": {
      "application/vnd.jupyter.widget-view+json": {
       "model_id": "50ca430d826c46b3bf6ab4e16ad549ec",
       "version_major": 2,
       "version_minor": 0
      },
      "image/png": "[encoded data removed]",
      "text/html": [
       "\n",
       "            <div style=\"display: inline-block;\">\n",
       "                <div class=\"jupyter-widgets widget-label\" style=\"text-align: center;\">\n",
       "                    Figure\n",
       "                </div>\n",
       "                <img src='data:image/png;base64,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' width=1080.0/>\n",
       "            </div>\n",
       "        "
      ],
      "text/plain": [
       "Canvas(toolbar=Toolbar(toolitems=[('Home', 'Reset original view', 'home', 'home'), ('Back', 'Back to previous …"
      ]
     },
     "metadata": {},
     "output_type": "display_data"
    }
   ],
   "source": [
    "import pandas as pd\n",
    "import numpy as np\n",
    "import matplotlib.pyplot as plt\n",
    "import ipywidgets as widgets\n",
    "\n",
    "# For example purpose, create 2 dataframes\n",
    "np.random.seed(0)\n",
    "df1 = pd.DataFrame({'value': np.random.randn(100)})\n",
    "df2 = pd.DataFrame({'value': np.random.randn(100)})\n",
    "\n",
    "slider_layout = widgets.Layout(width='800px')\n",
    "\n",
    "fig, ax = plt.subplots(figsize=(15, 2))\n",
    "vlines_df1, = ax.plot(df1[\"value\"], [0]*len(df1), \"|\", color=\"black\", markersize=100)\n",
    "vlines_df2, = ax.plot(df2[\"value\"], [1]*len(df1), \"|\", color=\"green\", markersize=100)\n",
    "ax.set_xlabel(\"time in samples\")\n",
    "\n",
    "def update(factor=1.0, offset=0.0):\n",
    "    vlines_df2.set_xdata(df2[\"value\"]*factor + offset)\n",
    "\n",
    "widgets.interact(\n",
    "    update, \n",
    "    factor=widgets.FloatSlider(min=0, max=2.0, step=0.001, value=1.0, layout=slider_layout), \n",
    "    offset=widgets.FloatSlider(min=-5.0, max=5.0, step=0.001, value=0.0, layout=slider_layout)\n",
    "    )"
   ]
  },
  {
   "cell_type": "code",
   "execution_count": 6,
   "metadata": {},
   "outputs": [],
   "source": [
    "update(1.0, 0.0)"
   ]
  },
  {
   "cell_type": "code",
   "execution_count": 15,
   "metadata": {},
   "outputs": [
    {
     "data": {
      "text/plain": [
       "<numpy.lib.npyio.NpzFile at 0x24b258f7388>"
      ]
     },
     "execution_count": 15,
     "metadata": {},
     "output_type": "execute_result"
    }
   ],
   "source": [
    "npz.npz"
   ]
  },
  {
   "cell_type": "code",
   "execution_count": 14,
   "metadata": {},
   "outputs": [
    {
     "ename": "TypeError",
     "evalue": "expected str, bytes or os.PathLike object, not NpzFile",
     "output_type": "error",
     "traceback": [
      "\u001b[1;31m---------------------------------------------------------------------------\u001b[0m",
      "\u001b[1;31mTypeError\u001b[0m                                 Traceback (most recent call last)",
      "\u001b[1;32m~\\AppData\\Local\\Temp\\ipykernel_10488\\2772326701.py\u001b[0m in \u001b[0;36m<module>\u001b[1;34m\u001b[0m\n\u001b[1;32m----> 1\u001b[1;33m \u001b[0mnp\u001b[0m\u001b[1;33m.\u001b[0m\u001b[0mload\u001b[0m\u001b[1;33m(\u001b[0m\u001b[0mnpz\u001b[0m\u001b[1;33m.\u001b[0m\u001b[0mnpz\u001b[0m\u001b[1;33m)\u001b[0m\u001b[1;33m\u001b[0m\u001b[1;33m\u001b[0m\u001b[0m\n\u001b[0m",
      "\u001b[1;32mc:\\Users\\a\\miniconda3\\envs\\emulation-task\\lib\\site-packages\\numpy\\lib\\npyio.py\u001b[0m in \u001b[0;36mload\u001b[1;34m(file, mmap_mode, allow_pickle, fix_imports, encoding)\u001b[0m\n\u001b[0;32m    415\u001b[0m             \u001b[0mown_fid\u001b[0m \u001b[1;33m=\u001b[0m \u001b[1;32mFalse\u001b[0m\u001b[1;33m\u001b[0m\u001b[1;33m\u001b[0m\u001b[0m\n\u001b[0;32m    416\u001b[0m         \u001b[1;32melse\u001b[0m\u001b[1;33m:\u001b[0m\u001b[1;33m\u001b[0m\u001b[1;33m\u001b[0m\u001b[0m\n\u001b[1;32m--> 417\u001b[1;33m             \u001b[0mfid\u001b[0m \u001b[1;33m=\u001b[0m \u001b[0mstack\u001b[0m\u001b[1;33m.\u001b[0m\u001b[0menter_context\u001b[0m\u001b[1;33m(\u001b[0m\u001b[0mopen\u001b[0m\u001b[1;33m(\u001b[0m\u001b[0mos_fspath\u001b[0m\u001b[1;33m(\u001b[0m\u001b[0mfile\u001b[0m\u001b[1;33m)\u001b[0m\u001b[1;33m,\u001b[0m \u001b[1;34m\"rb\"\u001b[0m\u001b[1;33m)\u001b[0m\u001b[1;33m)\u001b[0m\u001b[1;33m\u001b[0m\u001b[1;33m\u001b[0m\u001b[0m\n\u001b[0m\u001b[0;32m    418\u001b[0m             \u001b[0mown_fid\u001b[0m \u001b[1;33m=\u001b[0m \u001b[1;32mTrue\u001b[0m\u001b[1;33m\u001b[0m\u001b[1;33m\u001b[0m\u001b[0m\n\u001b[0;32m    419\u001b[0m \u001b[1;33m\u001b[0m\u001b[0m\n",
      "\u001b[1;31mTypeError\u001b[0m: expected str, bytes or os.PathLike object, not NpzFile"
     ]
    }
   ],
   "source": [
    "np.load(npz.npz)"
   ]
  },
  {
   "cell_type": "code",
   "execution_count": 4,
   "metadata": {},
   "outputs": [
    {
     "name": "stderr",
     "output_type": "stream",
     "text": [
      "c:\\users\\a\\documents\\ag beste\\emulation-task\\actionemutask_NA\\globals.py:411: FutureWarning: The error_bad_lines argument has been deprecated and will be removed in a future version.\n",
      "\n",
      "\n",
      "  self.read_file()\n"
     ]
    }
   ],
   "source": [
    "npz_time_A  = NpzDF         (emp_fpath/\"task_C_22-06-24_13-21_S23.npz\").df[\"time\"].tolist()\n",
    "vmrk_time_A = EEGLabOutputDF(emp_fpath/\"S23_events_task_C_fixed.txt\")  .df[\"time\"].tolist()\n",
    "\n",
    "npz_time_B  = NpzDF         (emp_fpath/\"task_C_22-12-09_13-03_S56.npz\").df[\"time\"].tolist()\n",
    "vmrk_time_B = EEGLabOutputDF(emp_fpath/\"S56_events_task_C_fixed.txt\")  .df[\"time\"].tolist()\n",
    "\n",
    "npz_time_X  = NpzDF         (emp_fpath/\"task_C_23-01-11_20-02_S65.npz\").df[\"time\"].tolist()\n",
    "vmrk_time_X = EEGLabOutputDF(emp_fpath/\"S65_events_task_C_fixed.txt\")  .df[\"time\"].tolist()"
   ]
  },
  {
   "cell_type": "code",
   "execution_count": 7,
   "metadata": {},
   "outputs": [
    {
     "data": {
      "text/plain": [
       "(525, 1458)"
      ]
     },
     "execution_count": 7,
     "metadata": {},
     "output_type": "execute_result"
    }
   ],
   "source": [
    "len(vmrk_time_X), len(npz_time_X)"
   ]
  },
  {
   "cell_type": "code",
   "execution_count": 9,
   "metadata": {},
   "outputs": [
    {
     "data": {
      "text/html": [
       "<div>\n",
       "<style scoped>\n",
       "    .dataframe tbody tr th:only-of-type {\n",
       "        vertical-align: middle;\n",
       "    }\n",
       "\n",
       "    .dataframe tbody tr th {\n",
       "        vertical-align: top;\n",
       "    }\n",
       "\n",
       "    .dataframe thead th {\n",
       "        text-align: right;\n",
       "    }\n",
       "</style>\n",
       "<table border=\"1\" class=\"dataframe\">\n",
       "  <thead>\n",
       "    <tr style=\"text-align: right;\">\n",
       "      <th></th>\n",
       "      <th>sbjcode</th>\n",
       "      <th>task</th>\n",
       "      <th>group</th>\n",
       "      <th>vmrk_f</th>\n",
       "      <th>npz_f</th>\n",
       "    </tr>\n",
       "  </thead>\n",
       "  <tbody>\n",
       "    <tr>\n",
       "      <th>0</th>\n",
       "      <td>s01</td>\n",
       "      <td>A</td>\n",
       "      <td></td>\n",
       "      <td>S01_events_task_A_fixed.txt</td>\n",
       "      <td>task_A_22-06-11_13-56_S01.npz</td>\n",
       "    </tr>\n",
       "    <tr>\n",
       "      <th>1</th>\n",
       "      <td>s01</td>\n",
       "      <td>B</td>\n",
       "      <td></td>\n",
       "      <td>S01_events_task_B_fixed.txt</td>\n",
       "      <td>task_B_22-06-11_14-11_S01.npz</td>\n",
       "    </tr>\n",
       "    <tr>\n",
       "      <th>2</th>\n",
       "      <td>s01</td>\n",
       "      <td>C</td>\n",
       "      <td></td>\n",
       "      <td>S01_events_task_C_fixed.txt</td>\n",
       "      <td>task_C_22-06-11_14-25_S01.npz</td>\n",
       "    </tr>\n",
       "    <tr>\n",
       "      <th>3</th>\n",
       "      <td>s01</td>\n",
       "      <td>D</td>\n",
       "      <td></td>\n",
       "      <td>S01_events_task_D_fixed.txt</td>\n",
       "      <td>task_D_22-06-11_14-39_S01.npz</td>\n",
       "    </tr>\n",
       "    <tr>\n",
       "      <th>4</th>\n",
       "      <td>s02</td>\n",
       "      <td>A</td>\n",
       "      <td></td>\n",
       "      <td>S02_events_task_A_fixed.txt</td>\n",
       "      <td>task_A_22-05-17_20-07_S02.npz</td>\n",
       "    </tr>\n",
       "    <tr>\n",
       "      <th>...</th>\n",
       "      <td>...</td>\n",
       "      <td>...</td>\n",
       "      <td>...</td>\n",
       "      <td>...</td>\n",
       "      <td>...</td>\n",
       "    </tr>\n",
       "    <tr>\n",
       "      <th>287</th>\n",
       "      <td>s77</td>\n",
       "      <td>C</td>\n",
       "      <td></td>\n",
       "      <td>S77_events_task_C_fixed.txt</td>\n",
       "      <td>task_C_23-02-15_13-47_S77.npz</td>\n",
       "    </tr>\n",
       "    <tr>\n",
       "      <th>288</th>\n",
       "      <td>s77</td>\n",
       "      <td>D</td>\n",
       "      <td></td>\n",
       "      <td>S77_events_task_D_fixed.txt</td>\n",
       "      <td>task_D_23-02-15_14-02_S77.npz</td>\n",
       "    </tr>\n",
       "    <tr>\n",
       "      <th>289</th>\n",
       "      <td>s81</td>\n",
       "      <td>A</td>\n",
       "      <td></td>\n",
       "      <td>S81_events_task_A_fixed.txt</td>\n",
       "      <td>task_A_23-04-05_11-24_S81.npz</td>\n",
       "    </tr>\n",
       "    <tr>\n",
       "      <th>290</th>\n",
       "      <td>s81</td>\n",
       "      <td>B</td>\n",
       "      <td></td>\n",
       "      <td>S81_events_task_B_fixed.txt</td>\n",
       "      <td>task_B_23-04-05_11-38_S81.npz</td>\n",
       "    </tr>\n",
       "    <tr>\n",
       "      <th>291</th>\n",
       "      <td>s81</td>\n",
       "      <td>C</td>\n",
       "      <td></td>\n",
       "      <td>S81_events_task_C_fixed.txt</td>\n",
       "      <td>task_C_23-04-05_11-52_S81.npz</td>\n",
       "    </tr>\n",
       "  </tbody>\n",
       "</table>\n",
       "<p>292 rows × 5 columns</p>\n",
       "</div>"
      ],
      "text/plain": [
       "    sbjcode task group                       vmrk_f  \\\n",
       "0       s01    A        S01_events_task_A_fixed.txt   \n",
       "1       s01    B        S01_events_task_B_fixed.txt   \n",
       "2       s01    C        S01_events_task_C_fixed.txt   \n",
       "3       s01    D        S01_events_task_D_fixed.txt   \n",
       "4       s02    A        S02_events_task_A_fixed.txt   \n",
       "..      ...  ...   ...                          ...   \n",
       "287     s77    C        S77_events_task_C_fixed.txt   \n",
       "288     s77    D        S77_events_task_D_fixed.txt   \n",
       "289     s81    A        S81_events_task_A_fixed.txt   \n",
       "290     s81    B        S81_events_task_B_fixed.txt   \n",
       "291     s81    C        S81_events_task_C_fixed.txt   \n",
       "\n",
       "                             npz_f  \n",
       "0    task_A_22-06-11_13-56_S01.npz  \n",
       "1    task_B_22-06-11_14-11_S01.npz  \n",
       "2    task_C_22-06-11_14-25_S01.npz  \n",
       "3    task_D_22-06-11_14-39_S01.npz  \n",
       "4    task_A_22-05-17_20-07_S02.npz  \n",
       "..                             ...  \n",
       "287  task_C_23-02-15_13-47_S77.npz  \n",
       "288  task_D_23-02-15_14-02_S77.npz  \n",
       "289  task_A_23-04-05_11-24_S81.npz  \n",
       "290  task_B_23-04-05_11-38_S81.npz  \n",
       "291  task_C_23-04-05_11-52_S81.npz  \n",
       "\n",
       "[292 rows x 5 columns]"
      ]
     },
     "execution_count": 9,
     "metadata": {},
     "output_type": "execute_result"
    }
   ],
   "source": [
    "batch."
   ]
  },
  {
   "cell_type": "code",
   "execution_count": null,
   "metadata": {},
   "outputs": [],
   "source": []
  }
 ],
 "metadata": {
  "kernelspec": {
   "display_name": "emulation-task",
   "language": "python",
   "name": "python3"
  },
  "language_info": {
   "codemirror_mode": {
    "name": "ipython",
    "version": 3
   },
   "file_extension": ".py",
   "mimetype": "text/x-python",
   "name": "python",
   "nbconvert_exporter": "python",
   "pygments_lexer": "ipython3",
   "version": "3.7.16"
  },
  "orig_nbformat": 4,
  "vscode": {
   "interpreter": {
    "hash": "17a4f3306c24dd2707370ebba27578bbb39a63742413a6524a42fdc088bf30a1"
   }
  }
 },
 "nbformat": 4,
 "nbformat_minor": 2
}
